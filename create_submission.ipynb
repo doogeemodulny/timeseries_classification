{
 "cells": [
  {
   "cell_type": "code",
   "execution_count": 99,
   "id": "725d819b-729e-4884-9c8e-03bb323f6363",
   "metadata": {},
   "outputs": [],
   "source": [
    "import pandas as pd\n",
    "import numpy as np"
   ]
  },
  {
   "cell_type": "code",
   "execution_count": 100,
   "id": "a736aa4e-0ae5-49a0-b98f-c51058f5bfae",
   "metadata": {},
   "outputs": [],
   "source": [
    "test_df = pd.read_parquet('test.parquet')"
   ]
  },
  {
   "cell_type": "code",
   "execution_count": 101,
   "id": "6e424982-1f91-43ad-9ec8-1e78bdd2ab5a",
   "metadata": {},
   "outputs": [],
   "source": [
    "X_test_list = []\n",
    "\n",
    "for index, row in test_df.iterrows():\n",
    "    time_index = pd.Index(row['dates'])  \n",
    "    values = np.array(row['values'])  \n",
    "    time_series = pd.Series(values, index=time_index) \n",
    "    X_test_list.append(time_series)  \n",
    "\n",
    "X_test = pd.DataFrame(X_test_list) "
   ]
  },
  {
   "cell_type": "code",
   "execution_count": 102,
   "id": "671df498-1b73-479d-887a-f5f5b43ccc40",
   "metadata": {},
   "outputs": [],
   "source": [
    "X_test = X_test.apply(lambda x: x.ffill(), axis=1)\n",
    "X_test = X_test.apply(lambda x: x.bfill(), axis=1)"
   ]
  },
  {
   "cell_type": "code",
   "execution_count": 103,
   "id": "261181d1-4f4e-40b6-959b-a8f4d0161c3a",
   "metadata": {},
   "outputs": [
    {
     "data": {
      "text/plain": [
       "(20000, 97)"
      ]
     },
     "execution_count": 103,
     "metadata": {},
     "output_type": "execute_result"
    }
   ],
   "source": [
    "X_test.shape"
   ]
  },
  {
   "cell_type": "markdown",
   "id": "a6c00933-2725-44c9-9b2a-bd276f81ff7e",
   "metadata": {},
   "source": [
    "### в тесте тоже есть полностью пустые строки, к счастью их мало, потому что там будет случайный результат"
   ]
  },
  {
   "cell_type": "code",
   "execution_count": 104,
   "id": "5d762dff-17fb-4965-9853-2f40b0c3bb74",
   "metadata": {},
   "outputs": [],
   "source": [
    "for column in X_test.columns:\n",
    "    if X_test[column].dtype in [float, int]: \n",
    "        median_value = X_test[column].median()\n",
    "        X_test[column] = X_test[column].fillna(median_value) "
   ]
  },
  {
   "cell_type": "code",
   "execution_count": null,
   "id": "258bfe27-81a1-4dca-be64-27b543017502",
   "metadata": {},
   "outputs": [],
   "source": [
    "!pip install sktime\n",
    "!pip install mlflow"
   ]
  },
  {
   "cell_type": "code",
   "execution_count": 106,
   "id": "89f87d70-cb6c-4493-acef-b20ee08932a8",
   "metadata": {},
   "outputs": [],
   "source": [
    "from sktime.datatypes._panel._convert import (\n",
    "    from_2d_array_to_nested\n",
    ")"
   ]
  },
  {
   "cell_type": "code",
   "execution_count": 107,
   "id": "1963205b-c5ac-4054-b190-f77ecadeb635",
   "metadata": {},
   "outputs": [],
   "source": [
    "X_test = from_2d_array_to_nested(X_test)"
   ]
  },
  {
   "cell_type": "code",
   "execution_count": 108,
   "id": "37948cdc-154f-4ad6-9522-137bb88f7fda",
   "metadata": {},
   "outputs": [],
   "source": [
    "from sktime.utils import mlflow_sktime"
   ]
  },
  {
   "cell_type": "code",
   "execution_count": 109,
   "id": "f9de5de4-c4d2-4b84-a22b-134148799255",
   "metadata": {},
   "outputs": [],
   "source": [
    "balanced_forest = mlflow_sktime.load_model(model_uri=\"model_forest_balanced\")  "
   ]
  },
  {
   "cell_type": "code",
   "execution_count": 110,
   "id": "678b8c4f-6820-48e6-ab8b-e02f1cfd5dde",
   "metadata": {},
   "outputs": [],
   "source": [
    "pred_proba = balanced_forest.predict_proba(X_test)"
   ]
  },
  {
   "cell_type": "code",
   "execution_count": 111,
   "id": "31e105d4-f808-4292-a273-708c9c4d757f",
   "metadata": {},
   "outputs": [
    {
     "data": {
      "text/plain": [
       "(20000, 2)"
      ]
     },
     "execution_count": 111,
     "metadata": {},
     "output_type": "execute_result"
    }
   ],
   "source": [
    "pred_proba.shape"
   ]
  },
  {
   "cell_type": "code",
   "execution_count": 112,
   "id": "52c49b6b-4ed5-4d36-a1ab-f7cbbebb0440",
   "metadata": {},
   "outputs": [],
   "source": [
    "test_df[\"score\"] = pred_proba[:,1]\n",
    "test_df = test_df.drop(columns=[\"dates\", \"values\"])"
   ]
  },
  {
   "cell_type": "code",
   "execution_count": 113,
   "id": "76a84bdc-9052-4bac-992b-0b937634edfc",
   "metadata": {},
   "outputs": [],
   "source": [
    "test_df.to_csv('submission.csv', index=False)"
   ]
  },
  {
   "cell_type": "code",
   "execution_count": null,
   "id": "a555984e-9ca0-4f0d-9970-4d732c426ee6",
   "metadata": {},
   "outputs": [],
   "source": []
  }
 ],
 "metadata": {
  "kernelspec": {
   "display_name": "Python 3 (ipykernel)",
   "language": "python",
   "name": "python3"
  },
  "language_info": {
   "codemirror_mode": {
    "name": "ipython",
    "version": 3
   },
   "file_extension": ".py",
   "mimetype": "text/x-python",
   "name": "python",
   "nbconvert_exporter": "python",
   "pygments_lexer": "ipython3",
   "version": "3.9.7"
  }
 },
 "nbformat": 4,
 "nbformat_minor": 5
}
